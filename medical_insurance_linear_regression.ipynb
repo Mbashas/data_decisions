{
  "cells": [
    {
      "cell_type": "markdown",
      "metadata": {
        "id": "view-in-github",
        "colab_type": "text"
      },
      "source": [
        "<a href=\"https://colab.research.google.com/github/Mbashas/data_decisions/blob/main/medical_insurance_linear_regression.ipynb\" target=\"_parent\"><img src=\"https://colab.research.google.com/assets/colab-badge.svg\" alt=\"Open In Colab\"/></a>"
      ]
    },
    {
      "cell_type": "markdown",
      "id": "ef4f8a2c",
      "metadata": {
        "id": "ef4f8a2c"
      },
      "source": [
        "# Medical Insurance Cost Prediction Using Linear Regression\n",
        "\n",
        "**Name:** Mbasha Seth  \n",
        "**Course:** Data and Decisions\n",
        "\n",
        "**Date:** 5th October 2025\n",
        "\n",
        "\n",
        "---\n",
        "\n",
        "## Project Overview\n",
        "\n",
        "This project demonstrates the application of linear regression modeling to predict medical insurance costs based on various demographic and health-related factors. The analysis includes:\n",
        "\n",
        "- **Dataset:** Medical Insurance Cost Prediction dataset with multiple categorical variables\n",
        "- **Objective:** Build a linear regression model to predict insurance charges\n",
        "- **Key Features:** Age, sex, BMI, number of children, smoking status, and region"
      ]
    },
    {
      "cell_type": "markdown",
      "id": "888c1d3d",
      "metadata": {
        "id": "888c1d3d"
      },
      "source": [
        "---\n",
        "\n",
        "## 1. Data Import and Setup\n"
      ]
    },
    {
      "cell_type": "code",
      "execution_count": null,
      "id": "yiNK52Rs6yi3",
      "metadata": {
        "colab": {
          "base_uri": "https://localhost:8080/"
        },
        "id": "yiNK52Rs6yi3",
        "outputId": "802114d5-e92f-47de-c1e2-59447ab3b17b"
      },
      "outputs": [
        {
          "name": "stdout",
          "output_type": "stream",
          "text": [
            "Data source import complete.\n",
            "Dataset downloaded to: /Users/pro/.cache/kagglehub/datasets/rahulvyasm/medical-insurance-cost-prediction/versions/1\n"
          ]
        }
      ],
      "source": [
        "import kagglehub\n",
        "import os\n",
        "\n",
        "# Download the dataset\n",
        "rahulvyasm_medical_insurance_cost_prediction_path = kagglehub.dataset_download('rahulvyasm/medical-insurance-cost-prediction')\n",
        "\n",
        "print('Data source import complete.')\n",
        "print(f'Dataset downloaded to: {rahulvyasm_medical_insurance_cost_prediction_path}')"
      ]
    },
    {
      "cell_type": "code",
      "execution_count": null,
      "id": "ZoY1iF-55mij",
      "metadata": {
        "colab": {
          "base_uri": "https://localhost:8080/"
        },
        "id": "ZoY1iF-55mij",
        "outputId": "a3dbebc4-72e0-404a-c810-8ed9c5ebf5b1"
      },
      "outputs": [
        {
          "name": "stdout",
          "output_type": "stream",
          "text": [
            "/Users/pro/.cache/kagglehub/datasets/rahulvyasm/medical-insurance-cost-prediction/versions/1/medical_insurance.csv\n"
          ]
        }
      ],
      "source": [
        "# List all files in the downloaded dataset directory\n",
        "for dirname, _, filenames in os.walk(rahulvyasm_medical_insurance_cost_prediction_path):\n",
        "    for filename in filenames:\n",
        "        print(os.path.join(dirname, filename))"
      ]
    },
    {
      "cell_type": "markdown",
      "id": "ffe19a68",
      "metadata": {
        "id": "ffe19a68"
      },
      "source": [
        "### Importing Required Libraries"
      ]
    },
    {
      "cell_type": "code",
      "execution_count": null,
      "id": "385ac943",
      "metadata": {
        "id": "385ac943"
      },
      "outputs": [],
      "source": [
        "import numpy as np\n",
        "import pandas as pd\n",
        "import matplotlib.pyplot as plt\n",
        "import seaborn as sns\n",
        "from sklearn.model_selection import train_test_split\n",
        "from sklearn.linear_model import LinearRegression\n",
        "from sklearn import metrics"
      ]
    },
    {
      "cell_type": "markdown",
      "id": "406f89cf",
      "metadata": {
        "id": "406f89cf"
      },
      "source": [
        "---\n",
        "\n",
        "## 2. Data Collection and Loading"
      ]
    },
    {
      "cell_type": "code",
      "execution_count": null,
      "id": "5127899d",
      "metadata": {
        "id": "5127899d"
      },
      "outputs": [],
      "source": [
        "# Loading the dataset from a csv file\n",
        "csv_path = os.path.join(rahulvyasm_medical_insurance_cost_prediction_path, \"medical_insurance.csv\")\n",
        "insurance_dataset = pd.read_csv(csv_path)"
      ]
    },
    {
      "cell_type": "code",
      "execution_count": null,
      "id": "1323e801",
      "metadata": {
        "colab": {
          "base_uri": "https://localhost:8080/",
          "height": 206
        },
        "id": "1323e801",
        "outputId": "bc73a8b4-b651-4ae1-d596-cdacf4697154"
      },
      "outputs": [
        {
          "data": {
            "text/html": [
              "<div>\n",
              "<style scoped>\n",
              "    .dataframe tbody tr th:only-of-type {\n",
              "        vertical-align: middle;\n",
              "    }\n",
              "\n",
              "    .dataframe tbody tr th {\n",
              "        vertical-align: top;\n",
              "    }\n",
              "\n",
              "    .dataframe thead th {\n",
              "        text-align: right;\n",
              "    }\n",
              "</style>\n",
              "<table border=\"1\" class=\"dataframe\">\n",
              "  <thead>\n",
              "    <tr style=\"text-align: right;\">\n",
              "      <th></th>\n",
              "      <th>age</th>\n",
              "      <th>sex</th>\n",
              "      <th>bmi</th>\n",
              "      <th>children</th>\n",
              "      <th>smoker</th>\n",
              "      <th>region</th>\n",
              "      <th>charges</th>\n",
              "    </tr>\n",
              "  </thead>\n",
              "  <tbody>\n",
              "    <tr>\n",
              "      <th>0</th>\n",
              "      <td>19</td>\n",
              "      <td>female</td>\n",
              "      <td>27.900</td>\n",
              "      <td>0</td>\n",
              "      <td>yes</td>\n",
              "      <td>southwest</td>\n",
              "      <td>16884.92400</td>\n",
              "    </tr>\n",
              "    <tr>\n",
              "      <th>1</th>\n",
              "      <td>18</td>\n",
              "      <td>male</td>\n",
              "      <td>33.770</td>\n",
              "      <td>1</td>\n",
              "      <td>no</td>\n",
              "      <td>southeast</td>\n",
              "      <td>1725.55230</td>\n",
              "    </tr>\n",
              "    <tr>\n",
              "      <th>2</th>\n",
              "      <td>28</td>\n",
              "      <td>male</td>\n",
              "      <td>33.000</td>\n",
              "      <td>3</td>\n",
              "      <td>no</td>\n",
              "      <td>southeast</td>\n",
              "      <td>4449.46200</td>\n",
              "    </tr>\n",
              "    <tr>\n",
              "      <th>3</th>\n",
              "      <td>33</td>\n",
              "      <td>male</td>\n",
              "      <td>22.705</td>\n",
              "      <td>0</td>\n",
              "      <td>no</td>\n",
              "      <td>northwest</td>\n",
              "      <td>21984.47061</td>\n",
              "    </tr>\n",
              "    <tr>\n",
              "      <th>4</th>\n",
              "      <td>32</td>\n",
              "      <td>male</td>\n",
              "      <td>28.880</td>\n",
              "      <td>0</td>\n",
              "      <td>no</td>\n",
              "      <td>northwest</td>\n",
              "      <td>3866.85520</td>\n",
              "    </tr>\n",
              "  </tbody>\n",
              "</table>\n",
              "</div>"
            ],
            "text/plain": [
              "   age     sex     bmi  children smoker     region      charges\n",
              "0   19  female  27.900         0    yes  southwest  16884.92400\n",
              "1   18    male  33.770         1     no  southeast   1725.55230\n",
              "2   28    male  33.000         3     no  southeast   4449.46200\n",
              "3   33    male  22.705         0     no  northwest  21984.47061\n",
              "4   32    male  28.880         0     no  northwest   3866.85520"
            ]
          },
          "execution_count": 58,
          "metadata": {},
          "output_type": "execute_result"
        }
      ],
      "source": [
        "insurance_dataset.head()"
      ]
    },
    {
      "cell_type": "code",
      "execution_count": null,
      "id": "d34a1f56",
      "metadata": {
        "colab": {
          "base_uri": "https://localhost:8080/"
        },
        "id": "d34a1f56",
        "outputId": "cdce7e56-33c3-4bfe-8f19-34ad8ca12b4e"
      },
      "outputs": [
        {
          "data": {
            "text/plain": [
              "(2772, 7)"
            ]
          },
          "execution_count": 59,
          "metadata": {},
          "output_type": "execute_result"
        }
      ],
      "source": [
        "insurance_dataset.shape"
      ]
    },
    {
      "cell_type": "code",
      "execution_count": null,
      "id": "ecaf397e",
      "metadata": {
        "colab": {
          "base_uri": "https://localhost:8080/"
        },
        "id": "ecaf397e",
        "outputId": "84c1ccaa-7be2-4df2-d704-90b44e981190"
      },
      "outputs": [
        {
          "name": "stdout",
          "output_type": "stream",
          "text": [
            "<class 'pandas.core.frame.DataFrame'>\n",
            "RangeIndex: 2772 entries, 0 to 2771\n",
            "Data columns (total 7 columns):\n",
            " #   Column    Non-Null Count  Dtype  \n",
            "---  ------    --------------  -----  \n",
            " 0   age       2772 non-null   int64  \n",
            " 1   sex       2772 non-null   object \n",
            " 2   bmi       2772 non-null   float64\n",
            " 3   children  2772 non-null   int64  \n",
            " 4   smoker    2772 non-null   object \n",
            " 5   region    2772 non-null   object \n",
            " 6   charges   2772 non-null   float64\n",
            "dtypes: float64(2), int64(2), object(3)\n",
            "memory usage: 151.7+ KB\n"
          ]
        }
      ],
      "source": [
        "# Information about the dataset\n",
        "insurance_dataset.info()"
      ]
    },
    {
      "cell_type": "code",
      "execution_count": null,
      "id": "4613d427",
      "metadata": {
        "colab": {
          "base_uri": "https://localhost:8080/",
          "height": 304
        },
        "id": "4613d427",
        "outputId": "3e27a787-eebe-4fc7-a0db-ac90853c504d"
      },
      "outputs": [
        {
          "data": {
            "text/plain": [
              "age         0\n",
              "sex         0\n",
              "bmi         0\n",
              "children    0\n",
              "smoker      0\n",
              "region      0\n",
              "charges     0\n",
              "dtype: int64"
            ]
          },
          "execution_count": 61,
          "metadata": {},
          "output_type": "execute_result"
        }
      ],
      "source": [
        "insurance_dataset.isnull().sum()"
      ]
    },
    {
      "cell_type": "markdown",
      "id": "aef51e6b",
      "metadata": {
        "id": "aef51e6b"
      },
      "source": [
        "---\n",
        "\n",
        "## 3. Exploratory Data Analysis\n",
        "\n",
        "Exploration of the dataset to understand the distributions and relationships between variables."
      ]
    },
    {
      "cell_type": "markdown",
      "id": "4d384ac4",
      "metadata": {
        "id": "4d384ac4"
      },
      "source": [
        "### Statistical Summary"
      ]
    },
    {
      "cell_type": "code",
      "execution_count": null,
      "id": "3c37efb9",
      "metadata": {
        "colab": {
          "base_uri": "https://localhost:8080/",
          "height": 300
        },
        "id": "3c37efb9",
        "outputId": "e5fd9793-583a-472d-e694-3ce3e864f805"
      },
      "outputs": [
        {
          "data": {
            "text/html": [
              "<div>\n",
              "<style scoped>\n",
              "    .dataframe tbody tr th:only-of-type {\n",
              "        vertical-align: middle;\n",
              "    }\n",
              "\n",
              "    .dataframe tbody tr th {\n",
              "        vertical-align: top;\n",
              "    }\n",
              "\n",
              "    .dataframe thead th {\n",
              "        text-align: right;\n",
              "    }\n",
              "</style>\n",
              "<table border=\"1\" class=\"dataframe\">\n",
              "  <thead>\n",
              "    <tr style=\"text-align: right;\">\n",
              "      <th></th>\n",
              "      <th>age</th>\n",
              "      <th>bmi</th>\n",
              "      <th>children</th>\n",
              "      <th>charges</th>\n",
              "    </tr>\n",
              "  </thead>\n",
              "  <tbody>\n",
              "    <tr>\n",
              "      <th>count</th>\n",
              "      <td>2772.000000</td>\n",
              "      <td>2772.000000</td>\n",
              "      <td>2772.000000</td>\n",
              "      <td>2772.000000</td>\n",
              "    </tr>\n",
              "    <tr>\n",
              "      <th>mean</th>\n",
              "      <td>39.109668</td>\n",
              "      <td>30.701349</td>\n",
              "      <td>1.101732</td>\n",
              "      <td>13261.369959</td>\n",
              "    </tr>\n",
              "    <tr>\n",
              "      <th>std</th>\n",
              "      <td>14.081459</td>\n",
              "      <td>6.129449</td>\n",
              "      <td>1.214806</td>\n",
              "      <td>12151.768945</td>\n",
              "    </tr>\n",
              "    <tr>\n",
              "      <th>min</th>\n",
              "      <td>18.000000</td>\n",
              "      <td>15.960000</td>\n",
              "      <td>0.000000</td>\n",
              "      <td>1121.873900</td>\n",
              "    </tr>\n",
              "    <tr>\n",
              "      <th>25%</th>\n",
              "      <td>26.000000</td>\n",
              "      <td>26.220000</td>\n",
              "      <td>0.000000</td>\n",
              "      <td>4687.797000</td>\n",
              "    </tr>\n",
              "    <tr>\n",
              "      <th>50%</th>\n",
              "      <td>39.000000</td>\n",
              "      <td>30.447500</td>\n",
              "      <td>1.000000</td>\n",
              "      <td>9333.014350</td>\n",
              "    </tr>\n",
              "    <tr>\n",
              "      <th>75%</th>\n",
              "      <td>51.000000</td>\n",
              "      <td>34.770000</td>\n",
              "      <td>2.000000</td>\n",
              "      <td>16577.779500</td>\n",
              "    </tr>\n",
              "    <tr>\n",
              "      <th>max</th>\n",
              "      <td>64.000000</td>\n",
              "      <td>53.130000</td>\n",
              "      <td>5.000000</td>\n",
              "      <td>63770.428010</td>\n",
              "    </tr>\n",
              "  </tbody>\n",
              "</table>\n",
              "</div>"
            ],
            "text/plain": [
              "               age          bmi     children       charges\n",
              "count  2772.000000  2772.000000  2772.000000   2772.000000\n",
              "mean     39.109668    30.701349     1.101732  13261.369959\n",
              "std      14.081459     6.129449     1.214806  12151.768945\n",
              "min      18.000000    15.960000     0.000000   1121.873900\n",
              "25%      26.000000    26.220000     0.000000   4687.797000\n",
              "50%      39.000000    30.447500     1.000000   9333.014350\n",
              "75%      51.000000    34.770000     2.000000  16577.779500\n",
              "max      64.000000    53.130000     5.000000  63770.428010"
            ]
          },
          "execution_count": 62,
          "metadata": {},
          "output_type": "execute_result"
        }
      ],
      "source": [
        "# Statistial measures of the dataset\n",
        "insurance_dataset.describe()"
      ]
    },
    {
      "cell_type": "code",
      "execution_count": null,
      "id": "30aee062",
      "metadata": {
        "colab": {
          "base_uri": "https://localhost:8080/",
          "height": 769
        },
        "id": "30aee062",
        "outputId": "357f3bbe-1515-4cc1-daa4-518da7e56d61"
      },
      "outputs": [
        {
          "data": {
            "image/png": "[encoded data removed]",
            "text/plain": [
              "<Figure size 600x600 with 1 Axes>"
            ]
          },
          "metadata": {},
          "output_type": "display_data"
        }
      ],
      "source": [
        "# Distribution of age value\n",
        "sns.set()\n",
        "plt.figure(figsize=(6,6))\n",
        "sns.histplot(insurance_dataset['age'], kde=True)\n",
        "plt.title('Age Distribution')\n",
        "plt.show()"
      ]
    },
    {
      "cell_type": "code",
      "execution_count": null,
      "id": "f9465577",
      "metadata": {
        "colab": {
          "base_uri": "https://localhost:8080/",
          "height": 573
        },
        "id": "f9465577",
        "outputId": "1cc5e296-7fd8-4861-cf44-1250bdff2909"
      },
      "outputs": [
        {
          "data": {
            "image/png": "[encoded data removed]",
            "text/plain": [
              "<Figure size 600x600 with 1 Axes>"
            ]
          },
          "metadata": {},
          "output_type": "display_data"
        }
      ],
      "source": [
        "# Distribution for the gender column\n",
        "plt.figure(figsize=(6,6))\n",
        "sns.countplot(x='sex',data = insurance_dataset)\n",
        "plt.title('Gender Distribution')\n",
        "plt.show()"
      ]
    },
    {
      "cell_type": "code",
      "execution_count": null,
      "id": "d470775a",
      "metadata": {
        "colab": {
          "base_uri": "https://localhost:8080/",
          "height": 178
        },
        "id": "d470775a",
        "outputId": "6693757f-41b1-4797-8243-d7e3a7d814bd"
      },
      "outputs": [
        {
          "data": {
            "text/plain": [
              "sex\n",
              "male      1406\n",
              "female    1366\n",
              "Name: count, dtype: int64"
            ]
          },
          "execution_count": 65,
          "metadata": {},
          "output_type": "execute_result"
        }
      ],
      "source": [
        "insurance_dataset['sex'].value_counts()"
      ]
    },
    {
      "cell_type": "code",
      "execution_count": null,
      "id": "eee8a43a",
      "metadata": {
        "colab": {
          "base_uri": "https://localhost:8080/",
          "height": 769
        },
        "id": "eee8a43a",
        "outputId": "84e7e904-116d-4b46-f26c-35f4c2d3e792"
      },
      "outputs": [
        {
          "data": {
            "image/png": "[encoded data removed]",
            "text/plain": [
              "<Figure size 600x600 with 1 Axes>"
            ]
          },
          "metadata": {},
          "output_type": "display_data"
        }
      ],
      "source": [
        "# Distribution of BMI value\n",
        "sns.set()\n",
        "plt.figure(figsize=(6,6))\n",
        "sns.histplot(insurance_dataset['bmi'], kde=True)\n",
        "plt.title('BMI Distribution')\n",
        "plt.show()"
      ]
    },
    {
      "cell_type": "code",
      "execution_count": null,
      "id": "ae135c77",
      "metadata": {
        "colab": {
          "base_uri": "https://localhost:8080/",
          "height": 860
        },
        "id": "ae135c77",
        "outputId": "286646da-00b3-4066-ed69-c2b2aa66fbc3"
      },
      "outputs": [
        {
          "data": {
            "image/png": "[encoded data removed]",
            "text/plain": [
              "<Figure size 600x600 with 1 Axes>"
            ]
          },
          "metadata": {},
          "output_type": "display_data"
        },
        {
          "data": {
            "text/plain": [
              "children\n",
              "0    1186\n",
              "1     672\n",
              "2     496\n",
              "3     324\n",
              "4      52\n",
              "5      42\n",
              "Name: count, dtype: int64"
            ]
          },
          "execution_count": 67,
          "metadata": {},
          "output_type": "execute_result"
        }
      ],
      "source": [
        "# Distribution for the Children column\n",
        "plt.figure(figsize=(6,6))\n",
        "sns.countplot(x='children',data = insurance_dataset)\n",
        "plt.title('# Children Distribution')\n",
        "plt.show()\n",
        "insurance_dataset['children'].value_counts()"
      ]
    },
    {
      "cell_type": "markdown",
      "id": "8dd53373",
      "metadata": {
        "id": "8dd53373"
      },
      "source": [
        "---\n",
        "\n",
        "## 4. Data Preprocessing\n",
        "\n",
        "### Handling Categorical Variables\n",
        "\n",
        "The dataset contains three categorical variables that need to be converted to numerical format for the linear regression model:\n",
        "\n",
        "- **Binary Variables (sex, smoker):** Encoded using label encoding\n",
        "- **Nominal Variable (region):** Encoded using one-hot encoding to create dummy variables\n",
        "\n",
        "One-hot encoding is preferred for the 'region' variable to avoid implying any ordinal relationship between regions. We'll drop one dummy variable to prevent dummy trap."
      ]
    },
    {
      "cell_type": "markdown",
      "id": "9c944b57",
      "metadata": {
        "id": "9c944b57"
      },
      "source": [
        "### Encoding Implementation"
      ]
    },
    {
      "cell_type": "code",
      "execution_count": null,
      "id": "1d430277",
      "metadata": {
        "colab": {
          "base_uri": "https://localhost:8080/",
          "height": 298
        },
        "id": "1d430277",
        "outputId": "b857f2b8-cfa5-4ccd-b3ba-dfe17877b18b"
      },
      "outputs": [
        {
          "name": "stderr",
          "output_type": "stream",
          "text": [
            "/var/folders/mp/xmy3p64s6jq10mbvpp99z2mh0000gn/T/ipykernel_50665/613521988.py:2: FutureWarning: Downcasting behavior in `replace` is deprecated and will be removed in a future version. To retain the old behavior, explicitly call `result.infer_objects(copy=False)`. To opt-in to the future behavior, set `pd.set_option('future.no_silent_downcasting', True)`\n",
            "  insurance_dataset.replace({'sex':{'male':1,'female':0}}, inplace=True)\n",
            "/var/folders/mp/xmy3p64s6jq10mbvpp99z2mh0000gn/T/ipykernel_50665/613521988.py:3: FutureWarning: Downcasting behavior in `replace` is deprecated and will be removed in a future version. To retain the old behavior, explicitly call `result.infer_objects(copy=False)`. To opt-in to the future behavior, set `pd.set_option('future.no_silent_downcasting', True)`\n",
            "  insurance_dataset.replace({'smoker':{'yes':1,'no':0}}, inplace=True)  # Fixed: yes=1 (higher risk)\n"
          ]
        },
        {
          "data": {
            "text/html": [
              "<div>\n",
              "<style scoped>\n",
              "    .dataframe tbody tr th:only-of-type {\n",
              "        vertical-align: middle;\n",
              "    }\n",
              "\n",
              "    .dataframe tbody tr th {\n",
              "        vertical-align: top;\n",
              "    }\n",
              "\n",
              "    .dataframe thead th {\n",
              "        text-align: right;\n",
              "    }\n",
              "</style>\n",
              "<table border=\"1\" class=\"dataframe\">\n",
              "  <thead>\n",
              "    <tr style=\"text-align: right;\">\n",
              "      <th></th>\n",
              "      <th>age</th>\n",
              "      <th>sex</th>\n",
              "      <th>bmi</th>\n",
              "      <th>children</th>\n",
              "      <th>smoker</th>\n",
              "      <th>charges</th>\n",
              "      <th>region_northwest</th>\n",
              "      <th>region_southeast</th>\n",
              "      <th>region_southwest</th>\n",
              "    </tr>\n",
              "  </thead>\n",
              "  <tbody>\n",
              "    <tr>\n",
              "      <th>0</th>\n",
              "      <td>19</td>\n",
              "      <td>0</td>\n",
              "      <td>27.900</td>\n",
              "      <td>0</td>\n",
              "      <td>1</td>\n",
              "      <td>16884.92400</td>\n",
              "      <td>False</td>\n",
              "      <td>False</td>\n",
              "      <td>True</td>\n",
              "    </tr>\n",
              "    <tr>\n",
              "      <th>1</th>\n",
              "      <td>18</td>\n",
              "      <td>1</td>\n",
              "      <td>33.770</td>\n",
              "      <td>1</td>\n",
              "      <td>0</td>\n",
              "      <td>1725.55230</td>\n",
              "      <td>False</td>\n",
              "      <td>True</td>\n",
              "      <td>False</td>\n",
              "    </tr>\n",
              "    <tr>\n",
              "      <th>2</th>\n",
              "      <td>28</td>\n",
              "      <td>1</td>\n",
              "      <td>33.000</td>\n",
              "      <td>3</td>\n",
              "      <td>0</td>\n",
              "      <td>4449.46200</td>\n",
              "      <td>False</td>\n",
              "      <td>True</td>\n",
              "      <td>False</td>\n",
              "    </tr>\n",
              "    <tr>\n",
              "      <th>3</th>\n",
              "      <td>33</td>\n",
              "      <td>1</td>\n",
              "      <td>22.705</td>\n",
              "      <td>0</td>\n",
              "      <td>0</td>\n",
              "      <td>21984.47061</td>\n",
              "      <td>True</td>\n",
              "      <td>False</td>\n",
              "      <td>False</td>\n",
              "    </tr>\n",
              "    <tr>\n",
              "      <th>4</th>\n",
              "      <td>32</td>\n",
              "      <td>1</td>\n",
              "      <td>28.880</td>\n",
              "      <td>0</td>\n",
              "      <td>0</td>\n",
              "      <td>3866.85520</td>\n",
              "      <td>True</td>\n",
              "      <td>False</td>\n",
              "      <td>False</td>\n",
              "    </tr>\n",
              "  </tbody>\n",
              "</table>\n",
              "</div>"
            ],
            "text/plain": [
              "   age  sex     bmi  children  smoker      charges  region_northwest  \\\n",
              "0   19    0  27.900         0       1  16884.92400             False   \n",
              "1   18    1  33.770         1       0   1725.55230             False   \n",
              "2   28    1  33.000         3       0   4449.46200             False   \n",
              "3   33    1  22.705         0       0  21984.47061              True   \n",
              "4   32    1  28.880         0       0   3866.85520              True   \n",
              "\n",
              "   region_southeast  region_southwest  \n",
              "0             False              True  \n",
              "1              True             False  \n",
              "2              True             False  \n",
              "3             False             False  \n",
              "4             False             False  "
            ]
          },
          "execution_count": 68,
          "metadata": {},
          "output_type": "execute_result"
        }
      ],
      "source": [
        "# Encoding binary categorical variables\n",
        "insurance_dataset.replace({'sex':{'male':1,'female':0}}, inplace=True)\n",
        "insurance_dataset.replace({'smoker':{'yes':1,'no':0}}, inplace=True)  # Fixed: yes=1 (higher risk)\n",
        "\n",
        "# One-hot encoding for region (nominal variable)\n",
        "# This creates dummy variables and drops the first category to avoid multicollinearity\n",
        "insurance_dataset = pd.get_dummies(insurance_dataset, columns=['region'], drop_first=True)\n",
        "\n",
        "insurance_dataset.head()"
      ]
    },
    {
      "cell_type": "code",
      "execution_count": null,
      "id": "SPvKtWf6_cbK",
      "metadata": {
        "colab": {
          "base_uri": "https://localhost:8080/"
        },
        "id": "SPvKtWf6_cbK",
        "outputId": "f4fa5f03-4489-48b9-aefc-e94356f6bc18"
      },
      "outputs": [
        {
          "name": "stdout",
          "output_type": "stream",
          "text": [
            "Dataset shape after encoding: (2772, 9)\n",
            "\n",
            "New columns created for region:\n",
            "['region_northwest', 'region_southeast', 'region_southwest']\n"
          ]
        }
      ],
      "source": [
        "# Check the new shape after one-hot encoding\n",
        "print(f\"Dataset shape after encoding: {insurance_dataset.shape}\")\n",
        "print(f\"\\nNew columns created for region:\")\n",
        "print([col for col in insurance_dataset.columns if 'region' in col])\n"
      ]
    },
    {
      "cell_type": "markdown",
      "id": "c3201cf9",
      "metadata": {
        "id": "c3201cf9"
      },
      "source": [
        "---\n",
        "\n",
        "## 5. Model Building\n",
        "\n",
        "### Step 1: Defining Features and Target Variable\n",
        "\n",
        "We separate the dataset into:\n",
        "- **Features (X):** Independent variables used for prediction (age, sex, bmi, children, smoker, region dummy variables)\n",
        "- **Target (Y):** Dependent variable we want to predict (charges)"
      ]
    },
    {
      "cell_type": "code",
      "execution_count": null,
      "id": "3473cd51",
      "metadata": {
        "id": "3473cd51"
      },
      "outputs": [],
      "source": [
        "X = insurance_dataset.drop(columns='charges', axis=1)\n",
        "Y = insurance_dataset['charges']"
      ]
    },
    {
      "cell_type": "markdown",
      "id": "ec30e4b1",
      "metadata": {
        "id": "ec30e4b1"
      },
      "source": [
        "### Step 2: Splitting Data into Training and Testing Sets\n",
        "\n",
        "We split the data into:\n",
        "- **Training Set (80%):** Used to train the model\n",
        "- **Testing Set (20%):** Used to evaluate the model's performance on unseen data\n",
        "\n",
        "This helps assess how well the model generalizes to new data."
      ]
    },
    {
      "cell_type": "code",
      "execution_count": null,
      "id": "f5eb4bd7",
      "metadata": {
        "id": "f5eb4bd7"
      },
      "outputs": [],
      "source": [
        "X_train, X_test, Y_train, Y_test = train_test_split(X,Y, test_size = 0.2, random_state = 2)"
      ]
    },
    {
      "cell_type": "markdown",
      "id": "0d27c039",
      "metadata": {
        "id": "0d27c039"
      },
      "source": [
        "### Step 3: Training the Linear Regression Model\n",
        "\n",
        "We initialize and train a Linear Regression model using the training data. The model learns the relationship between the features and the target variable."
      ]
    },
    {
      "cell_type": "code",
      "execution_count": null,
      "id": "1bed2a16",
      "metadata": {
        "id": "1bed2a16"
      },
      "outputs": [],
      "source": [
        "# Loading the Linear Regression Model\n",
        "regressor = LinearRegression()"
      ]
    },
    {
      "cell_type": "code",
      "execution_count": null,
      "id": "2b9399bc",
      "metadata": {
        "colab": {
          "base_uri": "https://localhost:8080/",
          "height": 80
        },
        "id": "2b9399bc",
        "outputId": "ea689d1d-d48e-4d16-e95a-1e91621cd7a8"
      },
      "outputs": [
        {
          "data": {
            "text/html": [
              "<style>#sk-container-id-3 {\n",
              "  /* Definition of color scheme common for light and dark mode */\n",
              "  --sklearn-color-text: black;\n",
              "  --sklearn-color-line: gray;\n",
              "  /* Definition of color scheme for unfitted estimators */\n",
              "  --sklearn-color-unfitted-level-0: #fff5e6;\n",
              "  --sklearn-color-unfitted-level-1: #f6e4d2;\n",
              "  --sklearn-color-unfitted-level-2: #ffe0b3;\n",
              "  --sklearn-color-unfitted-level-3: chocolate;\n",
              "  /* Definition of color scheme for fitted estimators */\n",
              "  --sklearn-color-fitted-level-0: #f0f8ff;\n",
              "  --sklearn-color-fitted-level-1: #d4ebff;\n",
              "  --sklearn-color-fitted-level-2: #b3dbfd;\n",
              "  --sklearn-color-fitted-level-3: cornflowerblue;\n",
              "\n",
              "  /* Specific color for light theme */\n",
              "  --sklearn-color-text-on-default-background: var(--sg-text-color, var(--theme-code-foreground, var(--jp-content-font-color1, black)));\n",
              "  --sklearn-color-background: var(--sg-background-color, var(--theme-background, var(--jp-layout-color0, white)));\n",
              "  --sklearn-color-border-box: var(--sg-text-color, var(--theme-code-foreground, var(--jp-content-font-color1, black)));\n",
              "  --sklearn-color-icon: #696969;\n",
              "\n",
              "  @media (prefers-color-scheme: dark) {\n",
              "    /* Redefinition of color scheme for dark theme */\n",
              "    --sklearn-color-text-on-default-background: var(--sg-text-color, var(--theme-code-foreground, var(--jp-content-font-color1, white)));\n",
              "    --sklearn-color-background: var(--sg-background-color, var(--theme-background, var(--jp-layout-color0, #111)));\n",
              "    --sklearn-color-border-box: var(--sg-text-color, var(--theme-code-foreground, var(--jp-content-font-color1, white)));\n",
              "    --sklearn-color-icon: #878787;\n",
              "  }\n",
              "}\n",
              "\n",
              "#sk-container-id-3 {\n",
              "  color: var(--sklearn-color-text);\n",
              "}\n",
              "\n",
              "#sk-container-id-3 pre {\n",
              "  padding: 0;\n",
              "}\n",
              "\n",
              "#sk-container-id-3 input.sk-hidden--visually {\n",
              "  border: 0;\n",
              "  clip: rect(1px 1px 1px 1px);\n",
              "  clip: rect(1px, 1px, 1px, 1px);\n",
              "  height: 1px;\n",
              "  margin: -1px;\n",
              "  overflow: hidden;\n",
              "  padding: 0;\n",
              "  position: absolute;\n",
              "  width: 1px;\n",
              "}\n",
              "\n",
              "#sk-container-id-3 div.sk-dashed-wrapped {\n",
              "  border: 1px dashed var(--sklearn-color-line);\n",
              "  margin: 0 0.4em 0.5em 0.4em;\n",
              "  box-sizing: border-box;\n",
              "  padding-bottom: 0.4em;\n",
              "  background-color: var(--sklearn-color-background);\n",
              "}\n",
              "\n",
              "#sk-container-id-3 div.sk-container {\n",
              "  /* jupyter's `normalize.less` sets `[hidden] { display: none; }`\n",
              "     but bootstrap.min.css set `[hidden] { display: none !important; }`\n",
              "     so we also need the `!important` here to be able to override the\n",
              "     default hidden behavior on the sphinx rendered scikit-learn.org.\n",
              "     See: https://github.com/scikit-learn/scikit-learn/issues/21755 */\n",
              "  display: inline-block !important;\n",
              "  position: relative;\n",
              "}\n",
              "\n",
              "#sk-container-id-3 div.sk-text-repr-fallback {\n",
              "  display: none;\n",
              "}\n",
              "\n",
              "div.sk-parallel-item,\n",
              "div.sk-serial,\n",
              "div.sk-item {\n",
              "  /* draw centered vertical line to link estimators */\n",
              "  background-image: linear-gradient(var(--sklearn-color-text-on-default-background), var(--sklearn-color-text-on-default-background));\n",
              "  background-size: 2px 100%;\n",
              "  background-repeat: no-repeat;\n",
              "  background-position: center center;\n",
              "}\n",
              "\n",
              "/* Parallel-specific style estimator block */\n",
              "\n",
              "#sk-container-id-3 div.sk-parallel-item::after {\n",
              "  content: \"\";\n",
              "  width: 100%;\n",
              "  border-bottom: 2px solid var(--sklearn-color-text-on-default-background);\n",
              "  flex-grow: 1;\n",
              "}\n",
              "\n",
              "#sk-container-id-3 div.sk-parallel {\n",
              "  display: flex;\n",
              "  align-items: stretch;\n",
              "  justify-content: center;\n",
              "  background-color: var(--sklearn-color-background);\n",
              "  position: relative;\n",
              "}\n",
              "\n",
              "#sk-container-id-3 div.sk-parallel-item {\n",
              "  display: flex;\n",
              "  flex-direction: column;\n",
              "}\n",
              "\n",
              "#sk-container-id-3 div.sk-parallel-item:first-child::after {\n",
              "  align-self: flex-end;\n",
              "  width: 50%;\n",
              "}\n",
              "\n",
              "#sk-container-id-3 div.sk-parallel-item:last-child::after {\n",
              "  align-self: flex-start;\n",
              "  width: 50%;\n",
              "}\n",
              "\n",
              "#sk-container-id-3 div.sk-parallel-item:only-child::after {\n",
              "  width: 0;\n",
              "}\n",
              "\n",
              "/* Serial-specific style estimator block */\n",
              "\n",
              "#sk-container-id-3 div.sk-serial {\n",
              "  display: flex;\n",
              "  flex-direction: column;\n",
              "  align-items: center;\n",
              "  background-color: var(--sklearn-color-background);\n",
              "  padding-right: 1em;\n",
              "  padding-left: 1em;\n",
              "}\n",
              "\n",
              "\n",
              "/* Toggleable style: style used for estimator/Pipeline/ColumnTransformer box that is\n",
              "clickable and can be expanded/collapsed.\n",
              "- Pipeline and ColumnTransformer use this feature and define the default style\n",
              "- Estimators will overwrite some part of the style using the `sk-estimator` class\n",
              "*/\n",
              "\n",
              "/* Pipeline and ColumnTransformer style (default) */\n",
              "\n",
              "#sk-container-id-3 div.sk-toggleable {\n",
              "  /* Default theme specific background. It is overwritten whether we have a\n",
              "  specific estimator or a Pipeline/ColumnTransformer */\n",
              "  background-color: var(--sklearn-color-background);\n",
              "}\n",
              "\n",
              "/* Toggleable label */\n",
              "#sk-container-id-3 label.sk-toggleable__label {\n",
              "  cursor: pointer;\n",
              "  display: block;\n",
              "  width: 100%;\n",
              "  margin-bottom: 0;\n",
              "  padding: 0.5em;\n",
              "  box-sizing: border-box;\n",
              "  text-align: center;\n",
              "}\n",
              "\n",
              "#sk-container-id-3 label.sk-toggleable__label-arrow:before {\n",
              "  /* Arrow on the left of the label */\n",
              "  content: \"▸\";\n",
              "  float: left;\n",
              "  margin-right: 0.25em;\n",
              "  color: var(--sklearn-color-icon);\n",
              "}\n",
              "\n",
              "#sk-container-id-3 label.sk-toggleable__label-arrow:hover:before {\n",
              "  color: var(--sklearn-color-text);\n",
              "}\n",
              "\n",
              "/* Toggleable content - dropdown */\n",
              "\n",
              "#sk-container-id-3 div.sk-toggleable__content {\n",
              "  max-height: 0;\n",
              "  max-width: 0;\n",
              "  overflow: hidden;\n",
              "  text-align: left;\n",
              "  /* unfitted */\n",
              "  background-color: var(--sklearn-color-unfitted-level-0);\n",
              "}\n",
              "\n",
              "#sk-container-id-3 div.sk-toggleable__content.fitted {\n",
              "  /* fitted */\n",
              "  background-color: var(--sklearn-color-fitted-level-0);\n",
              "}\n",
              "\n",
              "#sk-container-id-3 div.sk-toggleable__content pre {\n",
              "  margin: 0.2em;\n",
              "  border-radius: 0.25em;\n",
              "  color: var(--sklearn-color-text);\n",
              "  /* unfitted */\n",
              "  background-color: var(--sklearn-color-unfitted-level-0);\n",
              "}\n",
              "\n",
              "#sk-container-id-3 div.sk-toggleable__content.fitted pre {\n",
              "  /* unfitted */\n",
              "  background-color: var(--sklearn-color-fitted-level-0);\n",
              "}\n",
              "\n",
              "#sk-container-id-3 input.sk-toggleable__control:checked~div.sk-toggleable__content {\n",
              "  /* Expand drop-down */\n",
              "  max-height: 200px;\n",
              "  max-width: 100%;\n",
              "  overflow: auto;\n",
              "}\n",
              "\n",
              "#sk-container-id-3 input.sk-toggleable__control:checked~label.sk-toggleable__label-arrow:before {\n",
              "  content: \"▾\";\n",
              "}\n",
              "\n",
              "/* Pipeline/ColumnTransformer-specific style */\n",
              "\n",
              "#sk-container-id-3 div.sk-label input.sk-toggleable__control:checked~label.sk-toggleable__label {\n",
              "  color: var(--sklearn-color-text);\n",
              "  background-color: var(--sklearn-color-unfitted-level-2);\n",
              "}\n",
              "\n",
              "#sk-container-id-3 div.sk-label.fitted input.sk-toggleable__control:checked~label.sk-toggleable__label {\n",
              "  background-color: var(--sklearn-color-fitted-level-2);\n",
              "}\n",
              "\n",
              "/* Estimator-specific style */\n",
              "\n",
              "/* Colorize estimator box */\n",
              "#sk-container-id-3 div.sk-estimator input.sk-toggleable__control:checked~label.sk-toggleable__label {\n",
              "  /* unfitted */\n",
              "  background-color: var(--sklearn-color-unfitted-level-2);\n",
              "}\n",
              "\n",
              "#sk-container-id-3 div.sk-estimator.fitted input.sk-toggleable__control:checked~label.sk-toggleable__label {\n",
              "  /* fitted */\n",
              "  background-color: var(--sklearn-color-fitted-level-2);\n",
              "}\n",
              "\n",
              "#sk-container-id-3 div.sk-label label.sk-toggleable__label,\n",
              "#sk-container-id-3 div.sk-label label {\n",
              "  /* The background is the default theme color */\n",
              "  color: var(--sklearn-color-text-on-default-background);\n",
              "}\n",
              "\n",
              "/* On hover, darken the color of the background */\n",
              "#sk-container-id-3 div.sk-label:hover label.sk-toggleable__label {\n",
              "  color: var(--sklearn-color-text);\n",
              "  background-color: var(--sklearn-color-unfitted-level-2);\n",
              "}\n",
              "\n",
              "/* Label box, darken color on hover, fitted */\n",
              "#sk-container-id-3 div.sk-label.fitted:hover label.sk-toggleable__label.fitted {\n",
              "  color: var(--sklearn-color-text);\n",
              "  background-color: var(--sklearn-color-fitted-level-2);\n",
              "}\n",
              "\n",
              "/* Estimator label */\n",
              "\n",
              "#sk-container-id-3 div.sk-label label {\n",
              "  font-family: monospace;\n",
              "  font-weight: bold;\n",
              "  display: inline-block;\n",
              "  line-height: 1.2em;\n",
              "}\n",
              "\n",
              "#sk-container-id-3 div.sk-label-container {\n",
              "  text-align: center;\n",
              "}\n",
              "\n",
              "/* Estimator-specific */\n",
              "#sk-container-id-3 div.sk-estimator {\n",
              "  font-family: monospace;\n",
              "  border: 1px dotted var(--sklearn-color-border-box);\n",
              "  border-radius: 0.25em;\n",
              "  box-sizing: border-box;\n",
              "  margin-bottom: 0.5em;\n",
              "  /* unfitted */\n",
              "  background-color: var(--sklearn-color-unfitted-level-0);\n",
              "}\n",
              "\n",
              "#sk-container-id-3 div.sk-estimator.fitted {\n",
              "  /* fitted */\n",
              "  background-color: var(--sklearn-color-fitted-level-0);\n",
              "}\n",
              "\n",
              "/* on hover */\n",
              "#sk-container-id-3 div.sk-estimator:hover {\n",
              "  /* unfitted */\n",
              "  background-color: var(--sklearn-color-unfitted-level-2);\n",
              "}\n",
              "\n",
              "#sk-container-id-3 div.sk-estimator.fitted:hover {\n",
              "  /* fitted */\n",
              "  background-color: var(--sklearn-color-fitted-level-2);\n",
              "}\n",
              "\n",
              "/* Specification for estimator info (e.g. \"i\" and \"?\") */\n",
              "\n",
              "/* Common style for \"i\" and \"?\" */\n",
              "\n",
              ".sk-estimator-doc-link,\n",
              "a:link.sk-estimator-doc-link,\n",
              "a:visited.sk-estimator-doc-link {\n",
              "  float: right;\n",
              "  font-size: smaller;\n",
              "  line-height: 1em;\n",
              "  font-family: monospace;\n",
              "  background-color: var(--sklearn-color-background);\n",
              "  border-radius: 1em;\n",
              "  height: 1em;\n",
              "  width: 1em;\n",
              "  text-decoration: none !important;\n",
              "  margin-left: 1ex;\n",
              "  /* unfitted */\n",
              "  border: var(--sklearn-color-unfitted-level-1) 1pt solid;\n",
              "  color: var(--sklearn-color-unfitted-level-1);\n",
              "}\n",
              "\n",
              ".sk-estimator-doc-link.fitted,\n",
              "a:link.sk-estimator-doc-link.fitted,\n",
              "a:visited.sk-estimator-doc-link.fitted {\n",
              "  /* fitted */\n",
              "  border: var(--sklearn-color-fitted-level-1) 1pt solid;\n",
              "  color: var(--sklearn-color-fitted-level-1);\n",
              "}\n",
              "\n",
              "/* On hover */\n",
              "div.sk-estimator:hover .sk-estimator-doc-link:hover,\n",
              ".sk-estimator-doc-link:hover,\n",
              "div.sk-label-container:hover .sk-estimator-doc-link:hover,\n",
              ".sk-estimator-doc-link:hover {\n",
              "  /* unfitted */\n",
              "  background-color: var(--sklearn-color-unfitted-level-3);\n",
              "  color: var(--sklearn-color-background);\n",
              "  text-decoration: none;\n",
              "}\n",
              "\n",
              "div.sk-estimator.fitted:hover .sk-estimator-doc-link.fitted:hover,\n",
              ".sk-estimator-doc-link.fitted:hover,\n",
              "div.sk-label-container:hover .sk-estimator-doc-link.fitted:hover,\n",
              ".sk-estimator-doc-link.fitted:hover {\n",
              "  /* fitted */\n",
              "  background-color: var(--sklearn-color-fitted-level-3);\n",
              "  color: var(--sklearn-color-background);\n",
              "  text-decoration: none;\n",
              "}\n",
              "\n",
              "/* Span, style for the box shown on hovering the info icon */\n",
              ".sk-estimator-doc-link span {\n",
              "  display: none;\n",
              "  z-index: 9999;\n",
              "  position: relative;\n",
              "  font-weight: normal;\n",
              "  right: .2ex;\n",
              "  padding: .5ex;\n",
              "  margin: .5ex;\n",
              "  width: min-content;\n",
              "  min-width: 20ex;\n",
              "  max-width: 50ex;\n",
              "  color: var(--sklearn-color-text);\n",
              "  box-shadow: 2pt 2pt 4pt #999;\n",
              "  /* unfitted */\n",
              "  background: var(--sklearn-color-unfitted-level-0);\n",
              "  border: .5pt solid var(--sklearn-color-unfitted-level-3);\n",
              "}\n",
              "\n",
              ".sk-estimator-doc-link.fitted span {\n",
              "  /* fitted */\n",
              "  background: var(--sklearn-color-fitted-level-0);\n",
              "  border: var(--sklearn-color-fitted-level-3);\n",
              "}\n",
              "\n",
              ".sk-estimator-doc-link:hover span {\n",
              "  display: block;\n",
              "}\n",
              "\n",
              "/* \"?\"-specific style due to the `<a>` HTML tag */\n",
              "\n",
              "#sk-container-id-3 a.estimator_doc_link {\n",
              "  float: right;\n",
              "  font-size: 1rem;\n",
              "  line-height: 1em;\n",
              "  font-family: monospace;\n",
              "  background-color: var(--sklearn-color-background);\n",
              "  border-radius: 1rem;\n",
              "  height: 1rem;\n",
              "  width: 1rem;\n",
              "  text-decoration: none;\n",
              "  /* unfitted */\n",
              "  color: var(--sklearn-color-unfitted-level-1);\n",
              "  border: var(--sklearn-color-unfitted-level-1) 1pt solid;\n",
              "}\n",
              "\n",
              "#sk-container-id-3 a.estimator_doc_link.fitted {\n",
              "  /* fitted */\n",
              "  border: var(--sklearn-color-fitted-level-1) 1pt solid;\n",
              "  color: var(--sklearn-color-fitted-level-1);\n",
              "}\n",
              "\n",
              "/* On hover */\n",
              "#sk-container-id-3 a.estimator_doc_link:hover {\n",
              "  /* unfitted */\n",
              "  background-color: var(--sklearn-color-unfitted-level-3);\n",
              "  color: var(--sklearn-color-background);\n",
              "  text-decoration: none;\n",
              "}\n",
              "\n",
              "#sk-container-id-3 a.estimator_doc_link.fitted:hover {\n",
              "  /* fitted */\n",
              "  background-color: var(--sklearn-color-fitted-level-3);\n",
              "}\n",
              "</style><div id=\"sk-container-id-3\" class=\"sk-top-container\"><div class=\"sk-text-repr-fallback\"><pre>LinearRegression()</pre><b>In a Jupyter environment, please rerun this cell to show the HTML representation or trust the notebook. <br />On GitHub, the HTML representation is unable to render, please try loading this page with nbviewer.org.</b></div><div class=\"sk-container\" hidden><div class=\"sk-item\"><div class=\"sk-estimator fitted sk-toggleable\"><input class=\"sk-toggleable__control sk-hidden--visually\" id=\"sk-estimator-id-3\" type=\"checkbox\" checked><label for=\"sk-estimator-id-3\" class=\"sk-toggleable__label fitted sk-toggleable__label-arrow fitted\">&nbsp;&nbsp;LinearRegression<a class=\"sk-estimator-doc-link fitted\" rel=\"noreferrer\" target=\"_blank\" href=\"https://scikit-learn.org/1.5/modules/generated/sklearn.linear_model.LinearRegression.html\">?<span>Documentation for LinearRegression</span></a><span class=\"sk-estimator-doc-link fitted\">i<span>Fitted</span></span></label><div class=\"sk-toggleable__content fitted\"><pre>LinearRegression()</pre></div> </div></div></div></div>"
            ],
            "text/plain": [
              "LinearRegression()"
            ]
          },
          "execution_count": 73,
          "metadata": {},
          "output_type": "execute_result"
        }
      ],
      "source": [
        "regressor.fit(X_train,Y_train)"
      ]
    },
    {
      "cell_type": "markdown",
      "id": "bc0fc511",
      "metadata": {
        "id": "bc0fc511"
      },
      "source": [
        "---\n",
        "\n",
        "## 6. Model Evaluation and Interpretation\n",
        "\n",
        "### Performance Metrics\n",
        "\n",
        "We evaluate the model using the **R² (R-squared) score**, which measures the proportion of variance in the target variable explained by the model:\n",
        "\n",
        "- **R² = 1:** Perfect prediction\n",
        "- **R² = 0:** Model is no better than predicting the mean\n",
        "- **R² < 0:** Model performs worse than predicting the mean\n",
        "\n",
        "### Training Data Performance"
      ]
    },
    {
      "cell_type": "code",
      "execution_count": null,
      "id": "4dcd13b6",
      "metadata": {
        "id": "4dcd13b6"
      },
      "outputs": [],
      "source": [
        "# Prediction on training data\n",
        "training_data_prediction = regressor.predict(X_train)"
      ]
    },
    {
      "cell_type": "code",
      "execution_count": null,
      "id": "7a9767a1",
      "metadata": {
        "colab": {
          "base_uri": "https://localhost:8080/"
        },
        "id": "7a9767a1",
        "outputId": "34ae1a0b-36a6-4cfa-ed0e-cba969c139ec"
      },
      "outputs": [
        {
          "name": "stdout",
          "output_type": "stream",
          "text": [
            "R² (Training Data) = 0.756346683591589\n",
            "\n",
            "Interpretation: The model explains 75.63% of the variance in insurance costs on the training data.\n"
          ]
        }
      ],
      "source": [
        "# R Squared Value for Training Data\n",
        "r2_train = metrics.r2_score(Y_train, training_data_prediction)\n",
        "print('R² (Training Data) =', r2_train)\n",
        "print(f'\\nInterpretation: The model explains {r2_train*100:.2f}% of the variance in insurance costs on the training data.')"
      ]
    },
    {
      "cell_type": "markdown",
      "id": "13b202de",
      "metadata": {
        "id": "13b202de"
      },
      "source": [
        "### Testing Data Performance\n"
      ]
    },
    {
      "cell_type": "code",
      "execution_count": null,
      "id": "f0ae8dc0",
      "metadata": {
        "id": "f0ae8dc0"
      },
      "outputs": [],
      "source": [
        "test_data_prediction = regressor.predict(X_test)"
      ]
    },
    {
      "cell_type": "code",
      "execution_count": null,
      "id": "ebfa1e32",
      "metadata": {
        "colab": {
          "base_uri": "https://localhost:8080/"
        },
        "id": "ebfa1e32",
        "outputId": "607c8e5a-4202-4032-cdad-bcf496f80903"
      },
      "outputs": [
        {
          "name": "stdout",
          "output_type": "stream",
          "text": [
            "R² (Test Data) = 0.7285703173274255\n",
            "\n",
            "Interpretation: The model explains 72.86% of the variance in insurance costs on the test data.\n"
          ]
        }
      ],
      "source": [
        "# R Squared Value for Test Data\n",
        "r2_test = metrics.r2_score(Y_test, test_data_prediction)\n",
        "print('R² (Test Data) =', r2_test)\n",
        "print(f'\\nInterpretation: The model explains {r2_test*100:.2f}% of the variance in insurance costs on the test data.')\n",
        "\n"
      ]
    },
    {
      "cell_type": "markdown",
      "id": "698a02ce",
      "metadata": {
        "id": "698a02ce"
      },
      "source": [
        "---\n",
        "\n",
        "## 7. Summary and Conclusions\n",
        "\n",
        "### Key Findings\n",
        "\n",
        "- Training R²: 0.7563 (75.63% variance explained)\n",
        "- Testing R²: 0.7286 (72.86% variance explained)\n",
        "- Successfully handled categorical variable as binary and dummy varibale using one-hot encoding\n",
        "- The close proximity of training and testing R² scores (difference of ~2.77%) indicates minimal overfitting\n",
        "- The model generalizes well to unseen data\n",
        "- Approximately 73-76% of insurance cost variance can be explained by the features in our model\n",
        "\n",
        "### Interpretation\n",
        "\n",
        "The linear regression model demonstrates solid predictive capability for medical insurance costs. The R² values above 0.72 suggest that the demographic and health-related variables (age, sex, BMI, children, smoking status, and region) are significant predictors of insurance charges.\n",
        "\n",
        "The minimal difference between training and testing performance indicates that the model is robust and not overfitting to the training data, which is crucial for real-world applications where the model needs to make accurate predictions on new, unseen data.\n"
      ]
    }
  ],
  "metadata": {
    "colab": {
      "provenance": [],
      "include_colab_link": true
    },
    "kernelspec": {
      "display_name": "base",
      "language": "python",
      "name": "python3"
    },
    "language_info": {
      "codemirror_mode": {
        "name": "ipython",
        "version": 3
      },
      "file_extension": ".py",
      "mimetype": "text/x-python",
      "name": "python",
      "nbconvert_exporter": "python",
      "pygments_lexer": "ipython3",
      "version": "3.12.7"
    }
  },
  "nbformat": 4,
  "nbformat_minor": 5
}